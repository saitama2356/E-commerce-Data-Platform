{
 "cells": [
  {
   "cell_type": "code",
   "execution_count": 1,
   "id": "2c397da1-fab8-4616-8ba0-08875f237ff0",
   "metadata": {},
   "outputs": [
    {
     "name": "stdout",
     "output_type": "stream",
     "text": [
      "Collecting pyttsx3\n",
      "  Downloading pyttsx3-2.98-py3-none-any.whl.metadata (3.8 kB)\n",
      "Collecting PyPDF2\n",
      "  Downloading pypdf2-3.0.1-py3-none-any.whl.metadata (6.8 kB)\n",
      "Collecting comtypes (from pyttsx3)\n",
      "  Downloading comtypes-1.4.8-py3-none-any.whl.metadata (7.1 kB)\n",
      "Collecting pypiwin32 (from pyttsx3)\n",
      "  Downloading pypiwin32-223-py3-none-any.whl.metadata (236 bytes)\n",
      "Requirement already satisfied: pywin32 in d:\\fia1471\\.venv\\lib\\site-packages (from pyttsx3) (308)\n",
      "Downloading pyttsx3-2.98-py3-none-any.whl (34 kB)\n",
      "Downloading pypdf2-3.0.1-py3-none-any.whl (232 kB)\n",
      "   ---------------------------------------- 0.0/232.6 kB ? eta -:--:--\n",
      "   ------ -------------------------------- 41.0/232.6 kB 991.0 kB/s eta 0:00:01\n",
      "   ------------------- -------------------- 112.6/232.6 kB 1.3 MB/s eta 0:00:01\n",
      "   ----------------------------------- ---- 204.8/232.6 kB 1.6 MB/s eta 0:00:01\n",
      "   -------------------------------------- - 225.3/232.6 kB 1.7 MB/s eta 0:00:01\n",
      "   ---------------------------------------- 232.6/232.6 kB 1.1 MB/s eta 0:00:00\n",
      "Downloading comtypes-1.4.8-py3-none-any.whl (229 kB)\n",
      "   ---------------------------------------- 0.0/229.4 kB ? eta -:--:--\n",
      "   ---------------------------------------- 229.4/229.4 kB 6.8 MB/s eta 0:00:00\n",
      "Downloading pypiwin32-223-py3-none-any.whl (1.7 kB)\n",
      "Installing collected packages: pypiwin32, PyPDF2, comtypes, pyttsx3\n",
      "Successfully installed PyPDF2-3.0.1 comtypes-1.4.8 pypiwin32-223 pyttsx3-2.98\n"
     ]
    },
    {
     "name": "stderr",
     "output_type": "stream",
     "text": [
      "\n",
      "[notice] A new release of pip is available: 24.0 -> 24.3.1\n",
      "[notice] To update, run: python.exe -m pip install --upgrade pip\n"
     ]
    }
   ],
   "source": [
    "!pip install pyttsx3 PyPDF2"
   ]
  },
  {
   "cell_type": "code",
   "execution_count": null,
   "id": "d6afe952-abfb-4326-9168-91d805ea07ab",
   "metadata": {},
   "outputs": [],
   "source": [
    "import pyttsx3\n",
    "import PyPDF2\n",
    "import os\n",
    "\n",
    "def pdf_to_speech(pdf_path, language='vi'):\n",
    "    try:\n",
    "        # Kiểm tra file tồn tại\n",
    "        if not os.path.exists(pdf_path):\n",
    "            raise FileNotFoundError(\"Không tìm thấy file PDF\")\n",
    "\n",
    "        # Đọc file PDF\n",
    "        pdf_reader = PyPDF2.PdfReader(pdf_path)\n",
    "        text = \"\"\n",
    "        \n",
    "        # Lấy text từ tất cả các trang\n",
    "        for page in pdf_reader.pages:\n",
    "            text += page.extract_text()\n",
    "\n",
    "        # Khởi tạo engine text-to-speech\n",
    "        engine = pyttsx3.init()\n",
    "        \n",
    "        # Cấu hình\n",
    "        engine.setProperty('rate', 150)    # Tốc độ đọc\n",
    "        engine.setProperty('volume', 1.0)  # Âm lượng\n",
    "        \n",
    "        # Tìm giọng đọc tiếng Việt nếu có\n",
    "        voices = engine.getProperty('voices')\n",
    "        for voice in voices:\n",
    "            if language in voice.languages:\n",
    "                engine.setProperty('voice', voice.id)\n",
    "                break\n",
    "\n",
    "        # Tạo file audio\n",
    "        output_path = pdf_path.rsplit('.', 1)[0] + '.mp3'\n",
    "        engine.save_to_file(text, output_path)\n",
    "        engine.runAndWait()\n",
    "        \n",
    "        print(f\"Đã tạo file audio: {output_path}\")\n",
    "        return True\n",
    "\n",
    "    except Exception as e:\n",
    "        print(f\"Có lỗi xảy ra: {str(e)}\")\n",
    "        return False\n",
    "\n",
    "# Sử dụng hàm\n",
    "pdf_path = \"C:/Users/Admin/Downloads/ôn blockchain.pdf\"\n",
    "pdf_to_speech(pdf_path)"
   ]
  },
  {
   "cell_type": "code",
   "execution_count": null,
   "id": "cfebefa0-3d09-437c-bf94-3f327b7d1a06",
   "metadata": {},
   "outputs": [],
   "source": []
  }
 ],
 "metadata": {
  "kernelspec": {
   "display_name": "Python 3 (ipykernel)",
   "language": "python",
   "name": "python3"
  },
  "language_info": {
   "codemirror_mode": {
    "name": "ipython",
    "version": 3
   },
   "file_extension": ".py",
   "mimetype": "text/x-python",
   "name": "python",
   "nbconvert_exporter": "python",
   "pygments_lexer": "ipython3",
   "version": "3.12.2"
  }
 },
 "nbformat": 4,
 "nbformat_minor": 5
}
