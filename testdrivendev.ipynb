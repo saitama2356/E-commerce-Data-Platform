{
 "cells": [
  {
   "cell_type": "code",
   "execution_count": 12,
   "id": "c7096e6a-5f65-416a-96a5-f00c7a23455d",
   "metadata": {},
   "outputs": [],
   "source": [
    "from pymongo.mongo_client import MongoClient\n",
    "from pymongo.server_api import ServerApi\n",
    "import json\n",
    "\n",
    "from config import *\n",
    "\n",
    "uri = URI\n",
    "\n",
    "# Create a new client and connect to the server\n",
    "client = MongoClient(uri, server_api=ServerApi('1'))\n",
    "db = client['datashop']\n",
    "assert db.list_collection_names() == ['shopee', 'tiki', 'lazada', 'review']\n",
    "n_tiki, n_shopee, n_lazada = 14, 6, 3"
   ]
  },
  {
   "cell_type": "code",
   "execution_count": 8,
   "id": "b28ea92f-13e3-4484-adcb-b6a4c6190cd5",
   "metadata": {},
   "outputs": [
    {
     "data": {
      "text/plain": [
       "4.0"
      ]
     },
     "execution_count": 8,
     "metadata": {},
     "output_type": "execute_result"
    }
   ],
   "source": [
    "tiki = db[\"tiki\"]\n",
    "total_days = tiki.count_documents({}) / 14\n",
    "total_days"
   ]
  },
  {
   "cell_type": "code",
   "execution_count": 11,
   "id": "8c7572ea-6c6d-4e8f-be63-4b3dd26f0d16",
   "metadata": {},
   "outputs": [
    {
     "data": {
      "text/plain": [
       "6"
      ]
     },
     "execution_count": 11,
     "metadata": {},
     "output_type": "execute_result"
    }
   ],
   "source": [
    "n_shopee"
   ]
  },
  {
   "cell_type": "code",
   "execution_count": 18,
   "id": "29212c0e-1614-4166-9b4f-507afc29dfa5",
   "metadata": {},
   "outputs": [
    {
     "name": "stdout",
     "output_type": "stream",
     "text": [
      "<class 'dict'>\n"
     ]
    }
   ],
   "source": [
    "import requests\n",
    "import pprint\n",
    "def get_all_products():\n",
    "   response = requests.get(\"http://127.0.0.1:8000/products/all\")\n",
    "   return response.json() if response.status_code == 200 else f\"Error: {response.status_code}\"\n",
    "\n",
    "products = get_all_products()\n",
    "pprint.pp(type(products), indent=0)"
   ]
  },
  {
   "cell_type": "code",
   "execution_count": 25,
   "id": "4c26f2e0-c386-4f0f-83a6-996487c68f4b",
   "metadata": {},
   "outputs": [
    {
     "name": "stdout",
     "output_type": "stream",
     "text": [
      "lazada : [1040858590, 2730432618, 2792189799]\n",
      "shopee : [5873954476, 24509035804, 27253416536, 27312277956, 27603632331, 29560903606]\n",
      "tiki : [26140236, 57422387, 197665885, 248280562, 271362153, 271973414, 273258825, 273880674, 274037360, 274057334, 275078722, 275127044, 275716541, 276425741]\n"
     ]
    }
   ],
   "source": [
    "for i, j in products.items():\n",
    "    print(i,':',j)"
   ]
  },
  {
   "cell_type": "code",
   "execution_count": null,
   "id": "9f95b8db-8ea7-4b45-a56f-fca1b22d59cc",
   "metadata": {},
   "outputs": [],
   "source": []
  }
 ],
 "metadata": {
  "kernelspec": {
   "display_name": "Python 3 (ipykernel)",
   "language": "python",
   "name": "python3"
  },
  "language_info": {
   "codemirror_mode": {
    "name": "ipython",
    "version": 3
   },
   "file_extension": ".py",
   "mimetype": "text/x-python",
   "name": "python",
   "nbconvert_exporter": "python",
   "pygments_lexer": "ipython3",
   "version": "3.12.2"
  }
 },
 "nbformat": 4,
 "nbformat_minor": 5
}
