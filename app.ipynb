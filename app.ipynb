{
 "cells": [
  {
   "cell_type": "code",
   "execution_count": 2,
   "id": "2cc50395-2611-4a9c-ac53-7562bbfaeea2",
   "metadata": {},
   "outputs": [
    {
     "name": "stderr",
     "output_type": "stream",
     "text": [
      "D:\\FIA1471\\.venv\\Lib\\site-packages\\dash\\dash.py:579: UserWarning:\n",
      "\n",
      "JupyterDash is deprecated, use Dash instead.\n",
      "See https://dash.plotly.com/dash-in-jupyter for more details.\n",
      "\n"
     ]
    },
    {
     "data": {
      "text/html": [
       "\n",
       "        <iframe\n",
       "            width=\"100%\"\n",
       "            height=\"650\"\n",
       "            src=\"http://127.0.0.1:8050/\"\n",
       "            frameborder=\"0\"\n",
       "            allowfullscreen\n",
       "            \n",
       "        ></iframe>\n",
       "        "
      ],
      "text/plain": [
       "<IPython.lib.display.IFrame at 0x2b1b1393680>"
      ]
     },
     "metadata": {},
     "output_type": "display_data"
    },
    {
     "name": "stdout",
     "output_type": "stream",
     "text": [
      "Dash app running on http://127.0.0.1:8050/\n"
     ]
    }
   ],
   "source": [
    "from jupyter_dash import JupyterDash\n",
    "from dash import html, dcc\n",
    "import plotly.graph_objs as go\n",
    "from dash.dependencies import Input, Output\n",
    "import requests\n",
    "import json\n",
    "import datetime\n",
    "\n",
    "# Initialize the JupyterDash app\n",
    "app = JupyterDash(__name__, \n",
    "                  external_stylesheets=['https://cdnjs.cloudflare.com/ajax/libs/bootstrap/5.3.0/css/bootstrap.min.css'])\n",
    "\n",
    "# Layout for the Dash app\n",
    "app.layout = html.Div([\n",
    "    html.H1(\"Product Price Analysis Dashboard\", style={'textAlign': 'center'}),\n",
    "    \n",
    "    # Dropdown to select product\n",
    "    dcc.Dropdown(id='product-dropdown', options=[], value=None, placeholder=\"Select a product\"),\n",
    "    \n",
    "    # Product Info\n",
    "    html.Div(id='product-info'),\n",
    "    \n",
    "    # Price Comparison Chart\n",
    "    dcc.Graph(id='price-comparison'),\n",
    "    \n",
    "    # Price History Chart\n",
    "    dcc.Graph(id='price-history-chart'),\n",
    "    \n",
    "    # Statistics\n",
    "    html.Div(id='product-statistics')\n",
    "])\n",
    "\n",
    "# Fetch product list and populate dropdown\n",
    "@app.callback(\n",
    "    Output('product-dropdown', 'options'),\n",
    "    Input('product-dropdown', 'value')\n",
    ")\n",
    "def fetch_products(selected_value):\n",
    "    response = requests.get(\"http://127.0.0.1:8000/products?limit=10\")\n",
    "    products = response.json()\n",
    "    return [{'label': product['name'], 'value': product['sku']} for product in products]\n",
    "\n",
    "# Update product info, price comparison, and history chart\n",
    "@app.callback(\n",
    "    [Output('product-info', 'children'),\n",
    "     Output('price-comparison', 'figure'),\n",
    "     Output('price-history-chart', 'figure'),\n",
    "     Output('product-statistics', 'children')],\n",
    "    Input('product-dropdown', 'value')\n",
    ")\n",
    "def update_product_info(selected_sku):\n",
    "    if not selected_sku:\n",
    "        return \"\", {}, {}, \"\"\n",
    "    \n",
    "    # Fetch product details\n",
    "    response = requests.get(f\"http://127.0.0.1:8000/product/{selected_sku}\")\n",
    "    product = response.json()\n",
    "    \n",
    "    # Product Info\n",
    "    product_info = html.Div([\n",
    "        html.H4(product['name']),\n",
    "        html.P(f\"Price: {product['price']} VND\"),\n",
    "        html.P(f\"Original Price: {product['original_price']} VND\"),\n",
    "        html.P(f\"List Price: {product['list_price']} VND\"),\n",
    "        html.P(f\"SKU: {product['sku']}\"),\n",
    "        html.P(f\"Seller: {product['current_seller']}\"),\n",
    "    ])\n",
    "    \n",
    "    # Price History Chart\n",
    "    price_history = product.get('price_history', [])\n",
    "    if price_history:\n",
    "        price_dates = [entry['date'] for entry in price_history]\n",
    "        prices = [entry['price'] for entry in price_history]\n",
    "        \n",
    "        price_history_fig = {\n",
    "            'data': [go.Scatter(x=price_dates, y=prices, mode='lines', name='Price History')],\n",
    "            'layout': go.Layout(title='Price History', xaxis={'title': 'Date'}, yaxis={'title': 'Price (VND)'}),\n",
    "        }\n",
    "    else:\n",
    "        price_history_fig = {}\n",
    "\n",
    "    # Statistics\n",
    "    statistics_response = requests.get(f\"http://127.0.0.1:8000/product/{selected_sku}/statistics\")\n",
    "    statistics = statistics_response.json()\n",
    "    statistics_info = html.Div([\n",
    "        html.P(f\"Average Price: {statistics['average_price']} VND\"),\n",
    "        html.P(f\"Min Price: {statistics['min_price']} VND\"),\n",
    "        html.P(f\"Max Price: {statistics['max_price']} VND\"),\n",
    "    ])\n",
    "    \n",
    "    return product_info, {}, price_history_fig, statistics_info\n",
    "\n",
    "# Run the app\n",
    "if __name__ == '__main__':\n",
    "    app.run_server(mode='external', debug=True, port=8050)\n"
   ]
  },
  {
   "cell_type": "code",
   "execution_count": null,
   "id": "922013dc-2d91-4437-8c03-72e936dec302",
   "metadata": {},
   "outputs": [],
   "source": [
    "!uvicorn backend:app --reload --host 0.0.0.0 --port 8000"
   ]
  },
  {
   "cell_type": "code",
   "execution_count": null,
   "id": "28c879b2-6428-4d8c-9444-6b35f644af51",
   "metadata": {},
   "outputs": [],
   "source": [
    "import requests\n",
    "\n",
    "url = \"http://localhost:8000/products?limit=10&skip=0\"\n",
    "headers = {\"accept\": \"application/json\"}\n",
    "\n",
    "response = requests.get(url, headers=headers)\n",
    "\n",
    "# Check if the request was successful\n",
    "if response.status_code == 200:\n",
    "    print(response.json())  # Print the response as a JSON object\n",
    "else:\n",
    "    print(f\"Error {response.status_code}: {response.text}\")"
   ]
  },
  {
   "cell_type": "code",
   "execution_count": null,
   "id": "f3ffc914-7a38-4f3f-a03d-0010fb9ee122",
   "metadata": {},
   "outputs": [],
   "source": []
  }
 ],
 "metadata": {
  "kernelspec": {
   "display_name": "Python 3 (ipykernel)",
   "language": "python",
   "name": "python3"
  },
  "language_info": {
   "codemirror_mode": {
    "name": "ipython",
    "version": 3
   },
   "file_extension": ".py",
   "mimetype": "text/x-python",
   "name": "python",
   "nbconvert_exporter": "python",
   "pygments_lexer": "ipython3",
   "version": "3.12.2"
  }
 },
 "nbformat": 4,
 "nbformat_minor": 5
}
